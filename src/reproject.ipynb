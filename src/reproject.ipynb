{
 "cells": [
  {
   "cell_type": "code",
   "execution_count": 12,
   "metadata": {},
   "outputs": [],
   "source": [
    "import os\n",
    "import pyproj\n",
    "from osgeo import gdal, ogr, osr"
   ]
  },
  {
   "cell_type": "code",
   "execution_count": 10,
   "metadata": {},
   "outputs": [
    {
     "ename": "CRSError",
     "evalue": "Invalid projection: PROJCS['Equirectangular EUROPA',DATUM['D_EUROPA',SPHEROID['EUROPA_localRadius',1560800,0]],PRIMEM['Reference_Meridian',0],UNIT['degree',0.0174532925199433,AUTHORITY['EPSG','9122']]],PROJECTION['Equirectangular'],PARAMETER['standard_parallel_1',0],PARAMETER['central_meridian',180],PARAMETER['false_easting',0],PARAMETER['false_northing',0],UNIT['metre',1,AUTHORITY['EPSG','9001']],AXIS['Easting',EAST],AXIS['Northing',NORTH]]: (Internal Proj Error: proj_create: missing [)",
     "output_type": "error",
     "traceback": [
      "\u001b[0;31m---------------------------------------------------------------------------\u001b[0m",
      "\u001b[0;31mCRSError\u001b[0m                                  Traceback (most recent call last)",
      "\u001b[1;32m/Users/marinadunn/Desktop/NASA/Europa/Europa_Chaos_Repo/src/reproject.ipynb Cell 3\u001b[0m line \u001b[0;36m9\n\u001b[1;32m      <a href='vscode-notebook-cell:/Users/marinadunn/Desktop/NASA/Europa/Europa_Chaos_Repo/src/reproject.ipynb#W2sZmlsZQ%3D%3D?line=0'>1</a>\u001b[0m \u001b[39m# Chaos Co; E6ESDRKLIN01\u001b[39;00m\n\u001b[1;32m      <a href='vscode-notebook-cell:/Users/marinadunn/Desktop/NASA/Europa/Europa_Chaos_Repo/src/reproject.ipynb#W2sZmlsZQ%3D%3D?line=1'>2</a>\u001b[0m \u001b[39mwith\u001b[39;00m gdal\u001b[39m.\u001b[39mconfig_option(\u001b[39m\"\u001b[39m\u001b[39mGDAL_NUM_THREADS\u001b[39m\u001b[39m\"\u001b[39m, \u001b[39m\"\u001b[39m\u001b[39mALL_CPUS\u001b[39m\u001b[39m\"\u001b[39m):\n\u001b[1;32m      <a href='vscode-notebook-cell:/Users/marinadunn/Desktop/NASA/Europa/Europa_Chaos_Repo/src/reproject.ipynb#W2sZmlsZQ%3D%3D?line=2'>3</a>\u001b[0m     \u001b[39m# Define warp options using gdal.WarpOptions\u001b[39;00m\n\u001b[1;32m      <a href='vscode-notebook-cell:/Users/marinadunn/Desktop/NASA/Europa/Europa_Chaos_Repo/src/reproject.ipynb#W2sZmlsZQ%3D%3D?line=3'>4</a>\u001b[0m     warp_options \u001b[39m=\u001b[39m gdal\u001b[39m.\u001b[39mWarpOptions(\u001b[39mformat\u001b[39m\u001b[39m=\u001b[39m\u001b[39m\"\u001b[39m\u001b[39mGTiff\u001b[39m\u001b[39m\"\u001b[39m,\n\u001b[1;32m      <a href='vscode-notebook-cell:/Users/marinadunn/Desktop/NASA/Europa/Europa_Chaos_Repo/src/reproject.ipynb#W2sZmlsZQ%3D%3D?line=4'>5</a>\u001b[0m                             warpMemoryLimit\u001b[39m=\u001b[39m\u001b[39mNone\u001b[39;00m,\n\u001b[1;32m      <a href='vscode-notebook-cell:/Users/marinadunn/Desktop/NASA/Europa/Europa_Chaos_Repo/src/reproject.ipynb#W2sZmlsZQ%3D%3D?line=5'>6</a>\u001b[0m                             multithread\u001b[39m=\u001b[39m\u001b[39mTrue\u001b[39;00m,\n\u001b[1;32m      <a href='vscode-notebook-cell:/Users/marinadunn/Desktop/NASA/Europa/Europa_Chaos_Repo/src/reproject.ipynb#W2sZmlsZQ%3D%3D?line=6'>7</a>\u001b[0m                             creationOptions\u001b[39m=\u001b[39m[\u001b[39m\"\u001b[39m\u001b[39mBIGTIFF=YES\u001b[39m\u001b[39m\"\u001b[39m, \u001b[39m\"\u001b[39m\u001b[39mNUM_THREADS=ALL_CPUS\u001b[39m\u001b[39m\"\u001b[39m],\n\u001b[1;32m      <a href='vscode-notebook-cell:/Users/marinadunn/Desktop/NASA/Europa/Europa_Chaos_Repo/src/reproject.ipynb#W2sZmlsZQ%3D%3D?line=7'>8</a>\u001b[0m                             dstSRS\u001b[39m=\u001b[39mpyproj\u001b[39m.\u001b[39mCRS\u001b[39m.\u001b[39mfrom_wkt(\u001b[39m'\u001b[39m\u001b[39mGEOGCS[\u001b[39m\u001b[39m\"\u001b[39m\u001b[39mGCS_Europa_2000\u001b[39m\u001b[39m\"\u001b[39m\u001b[39m,DATUM[\u001b[39m\u001b[39m\"\u001b[39m\u001b[39mD_Europa_2000\u001b[39m\u001b[39m\"\u001b[39m\u001b[39m,SPHEROID[\u001b[39m\u001b[39m\"\u001b[39m\u001b[39mEuropa_2000_IAU_IAG\u001b[39m\u001b[39m\"\u001b[39m\u001b[39m,1562090.0,0.0]],PRIMEM[\u001b[39m\u001b[39m\"\u001b[39m\u001b[39mReference_Meridian\u001b[39m\u001b[39m\"\u001b[39m\u001b[39m,0.0],UNIT[\u001b[39m\u001b[39m\"\u001b[39m\u001b[39mDegree\u001b[39m\u001b[39m\"\u001b[39m\u001b[39m,0.0174532925199433]]\u001b[39m\u001b[39m'\u001b[39m),\n\u001b[0;32m----> <a href='vscode-notebook-cell:/Users/marinadunn/Desktop/NASA/Europa/Europa_Chaos_Repo/src/reproject.ipynb#W2sZmlsZQ%3D%3D?line=8'>9</a>\u001b[0m                             srcSRS\u001b[39m=\u001b[39mpyproj\u001b[39m.\u001b[39;49mCRS\u001b[39m.\u001b[39;49mfrom_wkt(\u001b[39m\"\u001b[39;49m\u001b[39mPROJCS[\u001b[39;49m\u001b[39m'\u001b[39;49m\u001b[39mEquirectangular EUROPA\u001b[39;49m\u001b[39m'\u001b[39;49m\u001b[39m,DATUM[\u001b[39;49m\u001b[39m'\u001b[39;49m\u001b[39mD_EUROPA\u001b[39;49m\u001b[39m'\u001b[39;49m\u001b[39m,SPHEROID[\u001b[39;49m\u001b[39m'\u001b[39;49m\u001b[39mEUROPA_localRadius\u001b[39;49m\u001b[39m'\u001b[39;49m\u001b[39m,1560800,0]],PRIMEM[\u001b[39;49m\u001b[39m'\u001b[39;49m\u001b[39mReference_Meridian\u001b[39;49m\u001b[39m'\u001b[39;49m\u001b[39m,0],UNIT[\u001b[39;49m\u001b[39m'\u001b[39;49m\u001b[39mdegree\u001b[39;49m\u001b[39m'\u001b[39;49m\u001b[39m,0.0174532925199433,AUTHORITY[\u001b[39;49m\u001b[39m'\u001b[39;49m\u001b[39mEPSG\u001b[39;49m\u001b[39m'\u001b[39;49m\u001b[39m,\u001b[39;49m\u001b[39m'\u001b[39;49m\u001b[39m9122\u001b[39;49m\u001b[39m'\u001b[39;49m\u001b[39m]]],PROJECTION[\u001b[39;49m\u001b[39m'\u001b[39;49m\u001b[39mEquirectangular\u001b[39;49m\u001b[39m'\u001b[39;49m\u001b[39m],PARAMETER[\u001b[39;49m\u001b[39m'\u001b[39;49m\u001b[39mstandard_parallel_1\u001b[39;49m\u001b[39m'\u001b[39;49m\u001b[39m,0],PARAMETER[\u001b[39;49m\u001b[39m'\u001b[39;49m\u001b[39mcentral_meridian\u001b[39;49m\u001b[39m'\u001b[39;49m\u001b[39m,180],PARAMETER[\u001b[39;49m\u001b[39m'\u001b[39;49m\u001b[39mfalse_easting\u001b[39;49m\u001b[39m'\u001b[39;49m\u001b[39m,0],PARAMETER[\u001b[39;49m\u001b[39m'\u001b[39;49m\u001b[39mfalse_northing\u001b[39;49m\u001b[39m'\u001b[39;49m\u001b[39m,0],UNIT[\u001b[39;49m\u001b[39m'\u001b[39;49m\u001b[39mmetre\u001b[39;49m\u001b[39m'\u001b[39;49m\u001b[39m,1,AUTHORITY[\u001b[39;49m\u001b[39m'\u001b[39;49m\u001b[39mEPSG\u001b[39;49m\u001b[39m'\u001b[39;49m\u001b[39m,\u001b[39;49m\u001b[39m'\u001b[39;49m\u001b[39m9001\u001b[39;49m\u001b[39m'\u001b[39;49m\u001b[39m]],AXIS[\u001b[39;49m\u001b[39m'\u001b[39;49m\u001b[39mEasting\u001b[39;49m\u001b[39m'\u001b[39;49m\u001b[39m,EAST],AXIS[\u001b[39;49m\u001b[39m'\u001b[39;49m\u001b[39mNorthing\u001b[39;49m\u001b[39m'\u001b[39;49m\u001b[39m,NORTH]]\u001b[39;49m\u001b[39m\"\u001b[39;49m)\n\u001b[1;32m     <a href='vscode-notebook-cell:/Users/marinadunn/Desktop/NASA/Europa/Europa_Chaos_Repo/src/reproject.ipynb#W2sZmlsZQ%3D%3D?line=9'>10</a>\u001b[0m                             )\n\u001b[1;32m     <a href='vscode-notebook-cell:/Users/marinadunn/Desktop/NASA/Europa/Europa_Chaos_Repo/src/reproject.ipynb#W2sZmlsZQ%3D%3D?line=11'>12</a>\u001b[0m     gdal\u001b[39m.\u001b[39mWarp(destNameOrDestDS\u001b[39m=\u001b[39m\u001b[39m\"\u001b[39m\u001b[39m../data/Chaos_Co/image/E6ESDRKLIN01_GalileoSSI_E_reproj.tif\u001b[39m\u001b[39m\"\u001b[39m,\n\u001b[1;32m     <a href='vscode-notebook-cell:/Users/marinadunn/Desktop/NASA/Europa/Europa_Chaos_Repo/src/reproject.ipynb#W2sZmlsZQ%3D%3D?line=12'>13</a>\u001b[0m               srcDSOrSrcDSTab\u001b[39m=\u001b[39m\u001b[39m\"\u001b[39m\u001b[39m../data/Chaos_Co/image/E6ESDRKLIN01_GalileoSSI_E_reproj.tif\u001b[39m\u001b[39m\"\u001b[39m,\n\u001b[1;32m     <a href='vscode-notebook-cell:/Users/marinadunn/Desktop/NASA/Europa/Europa_Chaos_Repo/src/reproject.ipynb#W2sZmlsZQ%3D%3D?line=13'>14</a>\u001b[0m               options\u001b[39m=\u001b[39mwarp_options\n\u001b[1;32m     <a href='vscode-notebook-cell:/Users/marinadunn/Desktop/NASA/Europa/Europa_Chaos_Repo/src/reproject.ipynb#W2sZmlsZQ%3D%3D?line=14'>15</a>\u001b[0m               )\n",
      "File \u001b[0;32m~/miniforge3/envs/maskrcnn_env/lib/python3.10/site-packages/pyproj/crs/crs.py:432\u001b[0m, in \u001b[0;36mCRS.from_wkt\u001b[0;34m(cls, in_wkt_string)\u001b[0m\n\u001b[1;32m    430\u001b[0m \u001b[39mif\u001b[39;00m \u001b[39mnot\u001b[39;00m is_wkt(in_wkt_string):\n\u001b[1;32m    431\u001b[0m     \u001b[39mraise\u001b[39;00m CRSError(\u001b[39mf\u001b[39m\u001b[39m\"\u001b[39m\u001b[39mInvalid WKT string: \u001b[39m\u001b[39m{\u001b[39;00min_wkt_string\u001b[39m}\u001b[39;00m\u001b[39m\"\u001b[39m)\n\u001b[0;32m--> 432\u001b[0m \u001b[39mreturn\u001b[39;00m \u001b[39mcls\u001b[39;49m\u001b[39m.\u001b[39;49mfrom_user_input(_prepare_from_string(in_wkt_string))\n",
      "File \u001b[0;32m~/miniforge3/envs/maskrcnn_env/lib/python3.10/site-packages/pyproj/crs/crs.py:501\u001b[0m, in \u001b[0;36mCRS.from_user_input\u001b[0;34m(cls, value, **kwargs)\u001b[0m\n\u001b[1;32m    499\u001b[0m \u001b[39mif\u001b[39;00m \u001b[39misinstance\u001b[39m(value, \u001b[39mcls\u001b[39m):\n\u001b[1;32m    500\u001b[0m     \u001b[39mreturn\u001b[39;00m value\n\u001b[0;32m--> 501\u001b[0m \u001b[39mreturn\u001b[39;00m \u001b[39mcls\u001b[39;49m(value, \u001b[39m*\u001b[39;49m\u001b[39m*\u001b[39;49mkwargs)\n",
      "File \u001b[0;32m~/miniforge3/envs/maskrcnn_env/lib/python3.10/site-packages/pyproj/crs/crs.py:348\u001b[0m, in \u001b[0;36mCRS.__init__\u001b[0;34m(self, projparams, **kwargs)\u001b[0m\n\u001b[1;32m    346\u001b[0m     \u001b[39mself\u001b[39m\u001b[39m.\u001b[39m_local\u001b[39m.\u001b[39mcrs \u001b[39m=\u001b[39m projparams\n\u001b[1;32m    347\u001b[0m \u001b[39melse\u001b[39;00m:\n\u001b[0;32m--> 348\u001b[0m     \u001b[39mself\u001b[39m\u001b[39m.\u001b[39m_local\u001b[39m.\u001b[39mcrs \u001b[39m=\u001b[39m _CRS(\u001b[39mself\u001b[39;49m\u001b[39m.\u001b[39;49msrs)\n",
      "File \u001b[0;32m~/miniforge3/envs/maskrcnn_env/lib/python3.10/site-packages/pyproj/_crs.pyx:2378\u001b[0m, in \u001b[0;36mpyproj._crs._CRS.__init__\u001b[0;34m()\u001b[0m\n",
      "\u001b[0;31mCRSError\u001b[0m: Invalid projection: PROJCS['Equirectangular EUROPA',DATUM['D_EUROPA',SPHEROID['EUROPA_localRadius',1560800,0]],PRIMEM['Reference_Meridian',0],UNIT['degree',0.0174532925199433,AUTHORITY['EPSG','9122']]],PROJECTION['Equirectangular'],PARAMETER['standard_parallel_1',0],PARAMETER['central_meridian',180],PARAMETER['false_easting',0],PARAMETER['false_northing',0],UNIT['metre',1,AUTHORITY['EPSG','9001']],AXIS['Easting',EAST],AXIS['Northing',NORTH]]: (Internal Proj Error: proj_create: missing [)"
     ]
    }
   ],
   "source": [
    "# Chaos Co; E6ESDRKLIN01\n",
    "with gdal.config_option(\"GDAL_NUM_THREADS\", \"ALL_CPUS\"):\n",
    "    # Define warp options using gdal.WarpOptions\n",
    "    warp_options = gdal.WarpOptions(format=\"GTiff\",\n",
    "                            warpMemoryLimit=None,\n",
    "                            multithread=True,\n",
    "                            creationOptions=[\"BIGTIFF=YES\", \"NUM_THREADS=ALL_CPUS\"],\n",
    "                            dstSRS=pyproj.CRS.from_wkt('GEOGCS[\"GCS_Europa_2000\",DATUM[\"D_Europa_2000\",SPHEROID[\"Europa_2000_IAU_IAG\",1562090.0,0.0]],PRIMEM[\"Reference_Meridian\",0.0],UNIT[\"Degree\",0.0174532925199433]]'),\n",
    "                            srcSRS=pyproj.CRS.from_wkt(\"PROJCS['Equirectangular EUROPA',DATUM['D_EUROPA',SPHEROID['EUROPA_localRadius',1560800,0]],PRIMEM['Reference_Meridian',0],UNIT['degree',0.0174532925199433,AUTHORITY['EPSG','9122']]],PROJECTION['Equirectangular'],PARAMETER['standard_parallel_1',0],PARAMETER['central_meridian',180],PARAMETER['false_easting',0],PARAMETER['false_northing',0],UNIT['metre',1,AUTHORITY['EPSG','9001']],AXIS['Easting',EAST],AXIS['Northing',NORTH]]\")\n",
    "                            )\n",
    "    \n",
    "    gdal.Warp(destNameOrDestDS=\"../data/Chaos_Co/image/E6ESDRKLIN01_GalileoSSI_E_reproj.tif\",\n",
    "              srcDSOrSrcDSTab=\"../data/Chaos_Co/image/E6ESDRKLIN01_GalileoSSI_E_reproj.tif\",\n",
    "              options=warp_options\n",
    "              )"
   ]
  },
  {
   "cell_type": "code",
   "execution_count": null,
   "metadata": {},
   "outputs": [],
   "source": []
  }
 ],
 "metadata": {
  "kernelspec": {
   "display_name": "maskrcnn_env",
   "language": "python",
   "name": "maskrcnn_env"
  },
  "language_info": {
   "codemirror_mode": {
    "name": "ipython",
    "version": 3
   },
   "file_extension": ".py",
   "mimetype": "text/x-python",
   "name": "python",
   "nbconvert_exporter": "python",
   "pygments_lexer": "ipython3",
   "version": "3.10.12"
  },
  "orig_nbformat": 4
 },
 "nbformat": 4,
 "nbformat_minor": 2
}
